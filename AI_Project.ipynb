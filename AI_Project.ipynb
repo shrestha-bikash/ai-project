{
  "nbformat": 4,
  "nbformat_minor": 0,
  "metadata": {
    "colab": {
      "name": "AI_Project.ipynb",
      "provenance": [],
      "collapsed_sections": [],
      "include_colab_link": true
    },
    "kernelspec": {
      "name": "python3",
      "display_name": "Python 3"
    }
  },
  "cells": [
    {
      "cell_type": "markdown",
      "metadata": {
        "id": "view-in-github",
        "colab_type": "text"
      },
      "source": [
        "<a href=\"https://colab.research.google.com/github/shrestha-bikash/ai-project/blob/master/AI_Project.ipynb\" target=\"_parent\"><img src=\"https://colab.research.google.com/assets/colab-badge.svg\" alt=\"Open In Colab\"/></a>"
      ]
    },
    {
      "cell_type": "markdown",
      "metadata": {
        "id": "JANy2x_m61nT",
        "colab_type": "text"
      },
      "source": [
        "# Load libraries and the dataset"
      ]
    },
    {
      "cell_type": "code",
      "metadata": {
        "id": "ES7Ekv2X0WEX",
        "colab_type": "code",
        "colab": {
          "base_uri": "https://localhost:8080/",
          "height": 170
        },
        "outputId": "d2d1d921-5a6a-467d-c7cc-f8765cd42267"
      },
      "source": [
        "from keras.models import Sequential\n",
        "from keras.layers import Dense\n",
        "from keras.optimizers import SGD\n",
        "from sklearn.preprocessing import LabelBinarizer\n",
        "from sklearn.metrics import accuracy_score, precision_score, recall_score, f1_score\n",
        "import numpy as np\n",
        "import pandas as pd\n",
        "import matplotlib.pyplot as plt\n",
        "import io\n",
        "from matplotlib.pyplot import figure\n",
        "\n",
        "url = 'https://raw.githubusercontent.com/shrestha-bikash/ai-project/master/EPLDataset.csv'\n",
        "df2 = pd.read_csv(url,index_col=0,parse_dates=[0])\n",
        "\n",
        "print(df2.head())"
      ],
      "execution_count": 13,
      "outputs": [
        {
          "output_type": "stream",
          "text": [
            "          away_team  home_goals  away_goals  ...  winner    matchweek     season\n",
            "home_team                                    ...                                \n",
            "ARS             AVL           1           1  ...       0  Matchweek 1  2006/2007\n",
            "BOL             TOT           2           0  ...       1  Matchweek 1  2006/2007\n",
            "EVE             WAT           2           1  ...       1  Matchweek 1  2006/2007\n",
            "NEW             WIG           2           1  ...       1  Matchweek 1  2006/2007\n",
            "POR             BLB           3           0  ...       1  Matchweek 1  2006/2007\n",
            "\n",
            "[5 rows x 30 columns]\n"
          ],
          "name": "stdout"
        }
      ]
    },
    {
      "cell_type": "markdown",
      "metadata": {
        "id": "JNcKWEtm3baU",
        "colab_type": "text"
      },
      "source": [
        "# Import all the required functions and split the datasets"
      ]
    },
    {
      "cell_type": "code",
      "metadata": {
        "id": "05lG9ba1M9JX",
        "colab_type": "code",
        "outputId": "73a201a2-71be-4da8-a898-e5d60af063b3",
        "colab": {
          "base_uri": "https://localhost:8080/",
          "height": 340
        }
      },
      "source": [
        "\n",
        "df1 = df2[['home_pos', 'away_pos', 'home_shots_on_target', 'away_shots_on_target', 'home_pass', 'away_pass',\n",
        "           'home_tackles', 'away_tackles', 'home_corner', 'away_corner', 'home_red', 'away_red', \n",
        "           'winner']]\n",
        "\n",
        "featureLen = df1.shape[1] - 1\n",
        "total = df1.shape[0]\n",
        "\n",
        "trainingPart = round(0.6 * total)\n",
        "validationPart = round(0.3 * total) + trainingPart\n",
        "\n",
        "# print(trainingPart, validationPart)\n",
        "\n",
        "# print('Before Shuffling', df1.head())\n",
        "df1 = df1.sample(frac=1).reset_index(drop=True)\n",
        "# print('After Shuffling', df1.head())\n",
        "xdf1 = df1.iloc[:, 0:featureLen]\n",
        "ydf1 = df1.iloc[:, featureLen:]\n",
        "\n",
        "xTrain = df1.iloc[:trainingPart, 0:featureLen]\n",
        "yTrain = df1.iloc[:trainingPart, featureLen:]\n",
        "xValidation = df1.iloc[trainingPart:validationPart, 0:featureLen]\n",
        "yValidation = df1.iloc[trainingPart:validationPart, featureLen:]\n",
        "xTest = df1.iloc[validationPart:, 0:featureLen]\n",
        "yTest = df1.iloc[validationPart:, featureLen:]\n",
        "\n",
        "print(xdf1.shape, xTrain.shape, xValidation.shape, xTest.shape)\n",
        "print('xTrain')\n",
        "print(xTrain.head())\n",
        "print('xValidation')\n",
        "print(xValidation.head())"
      ],
      "execution_count": 11,
      "outputs": [
        {
          "output_type": "stream",
          "text": [
            "(4938, 12) (2963, 12) (1481, 12) (494, 12)\n",
            "xTrain\n",
            "   home_pos  away_pos  home_shots_on_target  ...  away_corner  home_red  away_red\n",
            "0      56.0      44.0                     5  ...           12         0         0\n",
            "1      64.7      35.3                     4  ...            3         0         0\n",
            "2      57.6      42.4                     3  ...            2         0         0\n",
            "3      63.8      36.2                     7  ...            0         1         0\n",
            "4      54.8      45.2                     4  ...            4         0         0\n",
            "\n",
            "[5 rows x 12 columns]\n",
            "xValidation\n",
            "      home_pos  away_pos  home_shots_on_target  ...  away_corner  home_red  away_red\n",
            "2963      45.5      54.5                     7  ...            7         0         0\n",
            "2964      67.5      32.5                     7  ...            1         0         0\n",
            "2965      49.4      50.6                     4  ...            6         0         0\n",
            "2966      50.2      49.8                     2  ...            5         0         0\n",
            "2967      49.0      51.0                     5  ...            7         0         0\n",
            "\n",
            "[5 rows x 12 columns]\n"
          ],
          "name": "stdout"
        }
      ]
    },
    {
      "cell_type": "markdown",
      "metadata": {
        "id": "ZDqZfnET5GBs",
        "colab_type": "text"
      },
      "source": [
        "# Showing histogram for single input feature"
      ]
    },
    {
      "cell_type": "code",
      "metadata": {
        "id": "QH0g9V-O5CsX",
        "colab_type": "code",
        "colab": {}
      },
      "source": [
        "plt.hist(xdf1.iloc[:, 0], 20, stacked=True, density=False)\n",
        "plt.title('Home Posessions')\n",
        "plt.ylabel('count')\n",
        "plt.xlabel('home_pos')\n",
        "plt.show()"
      ],
      "execution_count": 0,
      "outputs": []
    },
    {
      "cell_type": "markdown",
      "metadata": {
        "id": "3qH-ll1z5qyh",
        "colab_type": "text"
      },
      "source": [
        "# Function to plot all the input features distribution"
      ]
    },
    {
      "cell_type": "code",
      "metadata": {
        "id": "Kob5NBgVXsBE",
        "colab_type": "code",
        "colab": {}
      },
      "source": [
        "def plotPerColumnDistribution(df, nGraphShown, nGraphPerRow):\n",
        "    nRow, nCol = df.shape\n",
        "    columnNames = list(df)\n",
        "    nGraphRow = (nCol + nGraphPerRow - 1) / nGraphPerRow\n",
        "    plt.figure(num = None, figsize = (6 * nGraphPerRow, 8 * nGraphRow), dpi = 80, facecolor = 'w', edgecolor = 'k')\n",
        "    for i in range(nGraphShown):\n",
        "        plt.subplot(nGraphRow, nGraphPerRow, i + 1)\n",
        "        columnDf = df.iloc[:, i]\n",
        "        if (not np.issubdtype(type(columnDf.iloc[0]), np.number)):\n",
        "            valueCounts = columnDf.value_counts()\n",
        "            valueCounts.plot.bar()\n",
        "        else:\n",
        "            columnDf.hist()\n",
        "        plt.ylabel('counts')\n",
        "        plt.xticks(rotation = 90)\n",
        "        plt.xlabel(f'{columnNames[i]}')\n",
        "        plt.title(f'(column {i})')\n",
        "    plt.tight_layout(pad = 2.0, w_pad = 2.0, h_pad = 1.0)\n",
        "    plt.show()\n",
        "    \n"
      ],
      "execution_count": 0,
      "outputs": []
    },
    {
      "cell_type": "code",
      "metadata": {
        "id": "0G_R9nEuYEvq",
        "colab_type": "code",
        "colab": {}
      },
      "source": [
        "plotPerColumnDistribution(xTrain, featureLen, 3)"
      ],
      "execution_count": 0,
      "outputs": []
    },
    {
      "cell_type": "code",
      "metadata": {
        "id": "7COyDufUslds",
        "colab_type": "code",
        "colab": {}
      },
      "source": [
        "plotPerColumnDistribution(xValidation, featureLen, 5)"
      ],
      "execution_count": 0,
      "outputs": []
    },
    {
      "cell_type": "markdown",
      "metadata": {
        "id": "ekKVp-AK534r",
        "colab_type": "text"
      },
      "source": [
        "# Calculate the mean and standard deviation from the training dataset"
      ]
    },
    {
      "cell_type": "code",
      "metadata": {
        "id": "jV_k9ldWFbA3",
        "colab_type": "code",
        "outputId": "363efebf-ff16-4e19-d538-de10c051ee6d",
        "colab": {
          "base_uri": "https://localhost:8080/",
          "height": 493
        }
      },
      "source": [
        "mean = xTrain.mean(axis=0)\n",
        "std = xTrain.std(axis=0)\n",
        "\n",
        "print('Mean:')\n",
        "print(mean)\n",
        "print('Standard Deviation')\n",
        "print(std)\n"
      ],
      "execution_count": 4,
      "outputs": [
        {
          "output_type": "stream",
          "text": [
            "Mean:\n",
            "home_pos                 51.609450\n",
            "away_pos                 48.390550\n",
            "home_shots_on_target      4.985825\n",
            "away_shots_on_target      3.881539\n",
            "home_pass               429.859264\n",
            "away_pass               404.473844\n",
            "home_tackles             19.568343\n",
            "away_tackles             19.997975\n",
            "home_corner               6.136686\n",
            "away_corner               4.763078\n",
            "home_red                  0.055349\n",
            "away_red                  0.096524\n",
            "dtype: float64\n",
            "Standard Deviation\n",
            "home_pos                 10.549698\n",
            "away_pos                 10.549698\n",
            "home_shots_on_target      2.679946\n",
            "away_shots_on_target      2.238891\n",
            "home_pass               119.078655\n",
            "away_pass               112.579393\n",
            "home_tackles              6.225910\n",
            "away_tackles              6.282028\n",
            "home_corner               3.113953\n",
            "away_corner               2.708284\n",
            "home_red                  0.235965\n",
            "away_red                  0.313113\n",
            "dtype: float64\n"
          ],
          "name": "stdout"
        }
      ]
    },
    {
      "cell_type": "markdown",
      "metadata": {
        "id": "Yh49Q9FD6Fvv",
        "colab_type": "text"
      },
      "source": [
        "# Plotting the distribution of output labels"
      ]
    },
    {
      "cell_type": "code",
      "metadata": {
        "id": "wojanbGfs1Mx",
        "colab_type": "code",
        "colab": {}
      },
      "source": [
        "plt.figure(num = None, figsize = (7, 8), dpi = 80, facecolor = 'w', edgecolor = 'k')\n",
        "plt.hist(yTrain.iloc[:, 0])\n",
        "plt.title('Output label')\n",
        "plt.ylabel('count')\n",
        "plt.xlabel('output class')\n",
        "plt.show()"
      ],
      "execution_count": 0,
      "outputs": []
    },
    {
      "cell_type": "markdown",
      "metadata": {
        "id": "Z5oSUSz76O9t",
        "colab_type": "text"
      },
      "source": [
        "# Normalize the data"
      ]
    },
    {
      "cell_type": "code",
      "metadata": {
        "id": "DlnmtrK0u8ei",
        "colab_type": "code",
        "outputId": "4dde1b03-811b-40ef-8254-bd9a6805627c",
        "colab": {
          "base_uri": "https://localhost:8080/",
          "height": 425
        }
      },
      "source": [
        "minimum = xTrain.min(axis = 0)\n",
        "maximum = xTrain.max(axis = 0)\n",
        "diff = maximum - minimum\n",
        "\n",
        "# print('Minimum Value')\n",
        "# print(minimum)\n",
        "# print('Maximun Value')\n",
        "# print(maximum)\n",
        "# print('Difference')\n",
        "# print(diff)\n",
        "\n",
        "# xTrain -= minimum\n",
        "# xTrain /= diff\n",
        "\n",
        "xTrain -= mean\n",
        "xTrain /= std\n",
        "\n",
        "# xValidation -= minimum\n",
        "# xValidation /= diff\n",
        "\n",
        "xValidation -= mean\n",
        "xValidation /= std\n",
        "\n",
        "# xTest -= minimum\n",
        "# xTest /= diff\n",
        "\n",
        "xTest -= mean\n",
        "xTest /= std\n",
        "\n",
        "print(xTrain.head())\n",
        "print(xValidation.head())\n",
        "print(xTest.head())\n"
      ],
      "execution_count": 5,
      "outputs": [
        {
          "output_type": "stream",
          "text": [
            "   home_pos  away_pos  home_shots_on_target  ...  away_corner  home_red  away_red\n",
            "0 -0.095685  0.095685              0.751573  ...    -0.650995 -0.234566 -0.308271\n",
            "1  1.354593 -1.354593             -1.487278  ...     1.195193 -0.234566 -0.308271\n",
            "2  0.283473 -0.283473             -1.114136  ...     0.825956 -0.234566 -0.308271\n",
            "3 -0.891916  0.891916              1.497857  ...     0.087481 -0.234566 -0.308271\n",
            "4  0.074936 -0.074936             -1.114136  ...    -1.020232 -0.234566  2.885461\n",
            "\n",
            "[5 rows x 12 columns]\n",
            "      home_pos  away_pos  home_shots_on_target  ...  away_corner  home_red  away_red\n",
            "2963  0.662630 -0.662630              0.751573  ...     0.087481 -0.234566 -0.308271\n",
            "2964  2.349882 -2.349882              0.751573  ...    -1.020232 -0.234566 -0.308271\n",
            "2965 -1.327948  1.327948              0.005289  ...     1.195193 -0.234566 -0.308271\n",
            "2966 -1.034101  1.034101             -1.487278  ...     0.456718 -0.234566 -0.308271\n",
            "2967  2.160303 -2.160303              1.497857  ...    -0.650995 -0.234566 -0.308271\n",
            "\n",
            "[5 rows x 12 columns]\n",
            "      home_pos  away_pos  home_shots_on_target  ...  away_corner  home_red  away_red\n",
            "4444  0.008583 -0.008583              0.005289  ...    -0.650995  4.003350 -0.308271\n",
            "4445  0.890125 -0.890125              2.244141  ...    -0.281757 -0.234566 -0.308271\n",
            "4446 -0.124122  0.124122              0.751573  ...     1.564431 -0.234566 -0.308271\n",
            "4447 -0.550674  0.550674              2.244141  ...    -0.281757 -0.234566 -0.308271\n",
            "4448  1.525214 -1.525214              2.244141  ...    -0.281757 -0.234566  2.885461\n",
            "\n",
            "[5 rows x 12 columns]\n"
          ],
          "name": "stdout"
        }
      ]
    },
    {
      "cell_type": "markdown",
      "metadata": {
        "id": "3aZQL7-_bdK1",
        "colab_type": "text"
      },
      "source": [
        "# Plotting histogram showing the relationships between input and output"
      ]
    },
    {
      "cell_type": "code",
      "metadata": {
        "id": "GD6-Ymym4e8x",
        "colab_type": "code",
        "colab": {}
      },
      "source": [
        "trainingDf = df1.iloc[:trainingPart, 0:]\n",
        "\n",
        "def plotPerColumnRelation(df, nGraphShown, nGraphPerRow):\n",
        "    nRow, nCol = df.shape\n",
        "    columnNames = list(df)\n",
        "    nGraphRow = (nCol + nGraphPerRow - 1) / nGraphPerRow\n",
        "    groupby_var = 'winner'\n",
        "    plt.figure(num = None, figsize = (9 * nGraphPerRow, 8 * nGraphRow), dpi = 80, facecolor = 'w')\n",
        "    for i in range(nGraphShown):\n",
        "        plt.subplot(nGraphRow, nGraphPerRow, i + 1)\n",
        "        df_agg = df.loc[:, [columnNames[i], groupby_var]].groupby(groupby_var)\n",
        "        vals = [df[columnNames[i]].values.tolist() for k, df in df_agg]\n",
        "        colors = [plt.cm.Spectral(j/float(len(vals)-1)) for j in range(len(vals))]\n",
        "\n",
        "        n, bins, patches = plt.hist(vals, 20, stacked=True, density=False, edgecolor='black', linewidth=1, color=colors[:len(vals)])\n",
        "\n",
        "        plt.legend({group:col for group, col in zip(np.unique(df[groupby_var]).tolist(), colors[:len(vals)])})\n",
        "        plt.title(f\"Stacked Histogram of '{columnNames[i]}' colored by {groupby_var}\", fontsize=18)\n",
        "        plt.xlabel(columnNames[i])\n",
        "        plt.ylabel(\"Frequency\")\n",
        "        plt.xticks( rotation = 90, ticks=bins[::3], labels=[round(b,1) for b in bins[::3]])\n",
        "    \n",
        "    plt.tight_layout()\n",
        "    plt.show()"
      ],
      "execution_count": 0,
      "outputs": []
    },
    {
      "cell_type": "code",
      "metadata": {
        "id": "JNPzq8T2jGlI",
        "colab_type": "code",
        "colab": {}
      },
      "source": [
        "plotPerColumnRelation(trainingDf, featureLen, 2)\n"
      ],
      "execution_count": 0,
      "outputs": []
    },
    {
      "cell_type": "markdown",
      "metadata": {
        "id": "cJzD4QPM7pk3",
        "colab_type": "text"
      },
      "source": [
        "# Format the output labels"
      ]
    },
    {
      "cell_type": "code",
      "metadata": {
        "id": "sZ-onTSW3UoX",
        "colab_type": "code",
        "outputId": "fb680507-f346-4530-9d7e-23d22c568b60",
        "colab": {
          "base_uri": "https://localhost:8080/",
          "height": 136
        }
      },
      "source": [
        "encoder = LabelBinarizer()\n",
        "YTrain = encoder.fit_transform(yTrain)\n",
        "YVal = encoder.fit_transform(yValidation)\n",
        "YTest = encoder.fit_transform(yTest)\n",
        "\n",
        "print(YTrain)"
      ],
      "execution_count": 7,
      "outputs": [
        {
          "output_type": "stream",
          "text": [
            "[[1 0 0]\n",
            " [1 0 0]\n",
            " [0 0 1]\n",
            " ...\n",
            " [0 1 0]\n",
            " [0 1 0]\n",
            " [1 0 0]]\n"
          ],
          "name": "stdout"
        }
      ]
    },
    {
      "cell_type": "markdown",
      "metadata": {
        "id": "q0oZZf1C7wcN",
        "colab_type": "text"
      },
      "source": [
        "# Create and train the Model"
      ]
    },
    {
      "cell_type": "code",
      "metadata": {
        "id": "YlQPl9Em4JYt",
        "colab_type": "code",
        "colab": {
          "base_uri": "https://localhost:8080/",
          "height": 1000
        },
        "outputId": "6886ce3f-79ca-45ee-eebc-1a74f3780eab"
      },
      "source": [
        "def create_network():\n",
        "  model = Sequential()\n",
        "  model.add(Dense(12, input_dim=featureLen, activation='relu'))\n",
        "  model.add(Dense(8, activation='tanh'))\n",
        "  # model.add(Dense(8, activation='relu'))\n",
        "  # model.add(Dense(8, activation='relu'))\n",
        "  model.add(Dense(3, activation='softmax'))\n",
        "  \n",
        "  #stochastic gradient descent\n",
        "  sgd = SGD(lr=0.01, decay=1e-6, momentum=0.9, nesterov=True)\n",
        "  model.compile(loss='categorical_crossentropy', optimizer='adam', metrics=['accuracy'])\n",
        "  return model\n",
        "\n",
        "myModal = create_network()\n",
        "history = myModal.fit(xTrain, YTrain, epochs=150, batch_size=10, validation_data = (xValidation, YVal))\n",
        "\n",
        "scores = myModal.evaluate(xTrain, YTrain)\n",
        "print(myModal.metrics_names)\n",
        "print(scores)\n",
        "print(\"Trainning set Accuracy: \", (scores[1] * 100.0) , \"%\")"
      ],
      "execution_count": 8,
      "outputs": [
        {
          "output_type": "stream",
          "text": [
            "WARNING:tensorflow:From /usr/local/lib/python3.6/dist-packages/keras/backend/tensorflow_backend.py:66: The name tf.get_default_graph is deprecated. Please use tf.compat.v1.get_default_graph instead.\n",
            "\n",
            "WARNING:tensorflow:From /usr/local/lib/python3.6/dist-packages/keras/backend/tensorflow_backend.py:541: The name tf.placeholder is deprecated. Please use tf.compat.v1.placeholder instead.\n",
            "\n",
            "WARNING:tensorflow:From /usr/local/lib/python3.6/dist-packages/keras/backend/tensorflow_backend.py:4432: The name tf.random_uniform is deprecated. Please use tf.random.uniform instead.\n",
            "\n",
            "WARNING:tensorflow:From /usr/local/lib/python3.6/dist-packages/keras/optimizers.py:793: The name tf.train.Optimizer is deprecated. Please use tf.compat.v1.train.Optimizer instead.\n",
            "\n",
            "WARNING:tensorflow:From /usr/local/lib/python3.6/dist-packages/keras/backend/tensorflow_backend.py:3576: The name tf.log is deprecated. Please use tf.math.log instead.\n",
            "\n",
            "WARNING:tensorflow:From /usr/local/lib/python3.6/dist-packages/tensorflow_core/python/ops/math_grad.py:1424: where (from tensorflow.python.ops.array_ops) is deprecated and will be removed in a future version.\n",
            "Instructions for updating:\n",
            "Use tf.where in 2.0, which has the same broadcast rule as np.where\n",
            "WARNING:tensorflow:From /usr/local/lib/python3.6/dist-packages/keras/backend/tensorflow_backend.py:1033: The name tf.assign_add is deprecated. Please use tf.compat.v1.assign_add instead.\n",
            "\n",
            "WARNING:tensorflow:From /usr/local/lib/python3.6/dist-packages/keras/backend/tensorflow_backend.py:1020: The name tf.assign is deprecated. Please use tf.compat.v1.assign instead.\n",
            "\n",
            "WARNING:tensorflow:From /usr/local/lib/python3.6/dist-packages/keras/backend/tensorflow_backend.py:3005: The name tf.Session is deprecated. Please use tf.compat.v1.Session instead.\n",
            "\n",
            "Train on 2963 samples, validate on 1481 samples\n",
            "Epoch 1/150\n",
            "WARNING:tensorflow:From /usr/local/lib/python3.6/dist-packages/keras/backend/tensorflow_backend.py:190: The name tf.get_default_session is deprecated. Please use tf.compat.v1.get_default_session instead.\n",
            "\n",
            "WARNING:tensorflow:From /usr/local/lib/python3.6/dist-packages/keras/backend/tensorflow_backend.py:197: The name tf.ConfigProto is deprecated. Please use tf.compat.v1.ConfigProto instead.\n",
            "\n",
            "WARNING:tensorflow:From /usr/local/lib/python3.6/dist-packages/keras/backend/tensorflow_backend.py:207: The name tf.global_variables is deprecated. Please use tf.compat.v1.global_variables instead.\n",
            "\n",
            "WARNING:tensorflow:From /usr/local/lib/python3.6/dist-packages/keras/backend/tensorflow_backend.py:216: The name tf.is_variable_initialized is deprecated. Please use tf.compat.v1.is_variable_initialized instead.\n",
            "\n",
            "WARNING:tensorflow:From /usr/local/lib/python3.6/dist-packages/keras/backend/tensorflow_backend.py:223: The name tf.variables_initializer is deprecated. Please use tf.compat.v1.variables_initializer instead.\n",
            "\n",
            "2963/2963 [==============================] - 2s 509us/step - loss: 1.0564 - acc: 0.4681 - val_loss: 1.0172 - val_acc: 0.4949\n",
            "Epoch 2/150\n",
            "2963/2963 [==============================] - 1s 174us/step - loss: 0.9617 - acc: 0.5390 - val_loss: 0.9565 - val_acc: 0.5496\n",
            "Epoch 3/150\n",
            "2963/2963 [==============================] - 0s 168us/step - loss: 0.9073 - acc: 0.5717 - val_loss: 0.9172 - val_acc: 0.5780\n",
            "Epoch 4/150\n",
            "2963/2963 [==============================] - 0s 167us/step - loss: 0.8806 - acc: 0.5953 - val_loss: 0.9049 - val_acc: 0.5841\n",
            "Epoch 5/150\n",
            "2963/2963 [==============================] - 1s 172us/step - loss: 0.8698 - acc: 0.6004 - val_loss: 0.9012 - val_acc: 0.5861\n",
            "Epoch 6/150\n",
            "2963/2963 [==============================] - 0s 166us/step - loss: 0.8649 - acc: 0.5964 - val_loss: 0.9025 - val_acc: 0.5739\n",
            "Epoch 7/150\n",
            "2963/2963 [==============================] - 1s 176us/step - loss: 0.8615 - acc: 0.6024 - val_loss: 0.8969 - val_acc: 0.5793\n",
            "Epoch 8/150\n",
            "2963/2963 [==============================] - 1s 171us/step - loss: 0.8591 - acc: 0.5937 - val_loss: 0.8942 - val_acc: 0.5841\n",
            "Epoch 9/150\n",
            "2963/2963 [==============================] - 1s 171us/step - loss: 0.8570 - acc: 0.5997 - val_loss: 0.8928 - val_acc: 0.5868\n",
            "Epoch 10/150\n",
            "2963/2963 [==============================] - 1s 169us/step - loss: 0.8547 - acc: 0.6001 - val_loss: 0.8919 - val_acc: 0.5827\n",
            "Epoch 11/150\n",
            "2963/2963 [==============================] - 1s 170us/step - loss: 0.8520 - acc: 0.6021 - val_loss: 0.8907 - val_acc: 0.5800\n",
            "Epoch 12/150\n",
            "2963/2963 [==============================] - 1s 185us/step - loss: 0.8497 - acc: 0.6034 - val_loss: 0.8893 - val_acc: 0.5766\n",
            "Epoch 13/150\n",
            "2963/2963 [==============================] - 0s 168us/step - loss: 0.8483 - acc: 0.6007 - val_loss: 0.8889 - val_acc: 0.5773\n",
            "Epoch 14/150\n",
            "2963/2963 [==============================] - 1s 176us/step - loss: 0.8464 - acc: 0.6072 - val_loss: 0.8860 - val_acc: 0.5847\n",
            "Epoch 15/150\n",
            "2963/2963 [==============================] - 1s 171us/step - loss: 0.8450 - acc: 0.6092 - val_loss: 0.8878 - val_acc: 0.5834\n",
            "Epoch 16/150\n",
            "2963/2963 [==============================] - 1s 190us/step - loss: 0.8438 - acc: 0.6061 - val_loss: 0.8857 - val_acc: 0.5861\n",
            "Epoch 17/150\n",
            "2963/2963 [==============================] - 1s 183us/step - loss: 0.8415 - acc: 0.6065 - val_loss: 0.8890 - val_acc: 0.5834\n",
            "Epoch 18/150\n",
            "2963/2963 [==============================] - 1s 173us/step - loss: 0.8405 - acc: 0.6085 - val_loss: 0.8853 - val_acc: 0.5841\n",
            "Epoch 19/150\n",
            "2963/2963 [==============================] - 1s 177us/step - loss: 0.8388 - acc: 0.6078 - val_loss: 0.8837 - val_acc: 0.5922\n",
            "Epoch 20/150\n",
            "2963/2963 [==============================] - 1s 191us/step - loss: 0.8370 - acc: 0.6126 - val_loss: 0.8837 - val_acc: 0.5969\n",
            "Epoch 21/150\n",
            "2963/2963 [==============================] - 1s 185us/step - loss: 0.8371 - acc: 0.6109 - val_loss: 0.8845 - val_acc: 0.5834\n",
            "Epoch 22/150\n",
            "2963/2963 [==============================] - 1s 174us/step - loss: 0.8341 - acc: 0.6088 - val_loss: 0.8862 - val_acc: 0.5942\n",
            "Epoch 23/150\n",
            "2963/2963 [==============================] - 1s 182us/step - loss: 0.8334 - acc: 0.6176 - val_loss: 0.8854 - val_acc: 0.5888\n",
            "Epoch 24/150\n",
            "2963/2963 [==============================] - 1s 178us/step - loss: 0.8334 - acc: 0.6112 - val_loss: 0.8863 - val_acc: 0.5881\n",
            "Epoch 25/150\n",
            "2963/2963 [==============================] - 1s 180us/step - loss: 0.8322 - acc: 0.6099 - val_loss: 0.8843 - val_acc: 0.5922\n",
            "Epoch 26/150\n",
            "2963/2963 [==============================] - 1s 171us/step - loss: 0.8305 - acc: 0.6149 - val_loss: 0.8864 - val_acc: 0.5841\n",
            "Epoch 27/150\n",
            "2963/2963 [==============================] - 1s 171us/step - loss: 0.8299 - acc: 0.6180 - val_loss: 0.8871 - val_acc: 0.5841\n",
            "Epoch 28/150\n",
            "2963/2963 [==============================] - 1s 183us/step - loss: 0.8290 - acc: 0.6149 - val_loss: 0.8848 - val_acc: 0.5881\n",
            "Epoch 29/150\n",
            "2963/2963 [==============================] - 1s 176us/step - loss: 0.8269 - acc: 0.6159 - val_loss: 0.8846 - val_acc: 0.5928\n",
            "Epoch 30/150\n",
            "2963/2963 [==============================] - 1s 181us/step - loss: 0.8276 - acc: 0.6166 - val_loss: 0.8843 - val_acc: 0.5901\n",
            "Epoch 31/150\n",
            "2963/2963 [==============================] - 1s 188us/step - loss: 0.8248 - acc: 0.6163 - val_loss: 0.8904 - val_acc: 0.5820\n",
            "Epoch 32/150\n",
            "2963/2963 [==============================] - 1s 172us/step - loss: 0.8255 - acc: 0.6159 - val_loss: 0.8870 - val_acc: 0.5922\n",
            "Epoch 33/150\n",
            "2963/2963 [==============================] - 1s 169us/step - loss: 0.8239 - acc: 0.6169 - val_loss: 0.8847 - val_acc: 0.5915\n",
            "Epoch 34/150\n",
            "2963/2963 [==============================] - 1s 169us/step - loss: 0.8240 - acc: 0.6193 - val_loss: 0.8861 - val_acc: 0.5854\n",
            "Epoch 35/150\n",
            "2963/2963 [==============================] - 1s 179us/step - loss: 0.8233 - acc: 0.6227 - val_loss: 0.8865 - val_acc: 0.5955\n",
            "Epoch 36/150\n",
            "2963/2963 [==============================] - 1s 185us/step - loss: 0.8231 - acc: 0.6136 - val_loss: 0.8850 - val_acc: 0.6003\n",
            "Epoch 37/150\n",
            "2963/2963 [==============================] - 1s 170us/step - loss: 0.8226 - acc: 0.6166 - val_loss: 0.8859 - val_acc: 0.5955\n",
            "Epoch 38/150\n",
            "2963/2963 [==============================] - 1s 175us/step - loss: 0.8215 - acc: 0.6193 - val_loss: 0.8845 - val_acc: 0.5942\n",
            "Epoch 39/150\n",
            "2963/2963 [==============================] - 1s 176us/step - loss: 0.8203 - acc: 0.6176 - val_loss: 0.8868 - val_acc: 0.5955\n",
            "Epoch 40/150\n",
            "2963/2963 [==============================] - 1s 169us/step - loss: 0.8204 - acc: 0.6250 - val_loss: 0.8851 - val_acc: 0.5949\n",
            "Epoch 41/150\n",
            "2963/2963 [==============================] - 1s 181us/step - loss: 0.8193 - acc: 0.6210 - val_loss: 0.8876 - val_acc: 0.5935\n",
            "Epoch 42/150\n",
            "2963/2963 [==============================] - 1s 170us/step - loss: 0.8193 - acc: 0.6180 - val_loss: 0.8852 - val_acc: 0.5982\n",
            "Epoch 43/150\n",
            "2963/2963 [==============================] - 1s 173us/step - loss: 0.8188 - acc: 0.6180 - val_loss: 0.8861 - val_acc: 0.6003\n",
            "Epoch 44/150\n",
            "2963/2963 [==============================] - 1s 175us/step - loss: 0.8184 - acc: 0.6210 - val_loss: 0.8884 - val_acc: 0.5874\n",
            "Epoch 45/150\n",
            "2963/2963 [==============================] - 1s 178us/step - loss: 0.8177 - acc: 0.6207 - val_loss: 0.8903 - val_acc: 0.5888\n",
            "Epoch 46/150\n",
            "2963/2963 [==============================] - 1s 171us/step - loss: 0.8164 - acc: 0.6213 - val_loss: 0.8866 - val_acc: 0.6050\n",
            "Epoch 47/150\n",
            "2963/2963 [==============================] - 1s 176us/step - loss: 0.8156 - acc: 0.6234 - val_loss: 0.8875 - val_acc: 0.5942\n",
            "Epoch 48/150\n",
            "2963/2963 [==============================] - 1s 185us/step - loss: 0.8165 - acc: 0.6200 - val_loss: 0.8883 - val_acc: 0.5996\n",
            "Epoch 49/150\n",
            "2963/2963 [==============================] - 1s 177us/step - loss: 0.8158 - acc: 0.6213 - val_loss: 0.8872 - val_acc: 0.5989\n",
            "Epoch 50/150\n",
            "2963/2963 [==============================] - 1s 177us/step - loss: 0.8148 - acc: 0.6271 - val_loss: 0.8866 - val_acc: 0.5976\n",
            "Epoch 51/150\n",
            "2963/2963 [==============================] - 1s 186us/step - loss: 0.8144 - acc: 0.6217 - val_loss: 0.8881 - val_acc: 0.5962\n",
            "Epoch 52/150\n",
            "2963/2963 [==============================] - 1s 180us/step - loss: 0.8138 - acc: 0.6227 - val_loss: 0.8883 - val_acc: 0.5888\n",
            "Epoch 53/150\n",
            "2963/2963 [==============================] - 1s 170us/step - loss: 0.8136 - acc: 0.6274 - val_loss: 0.8909 - val_acc: 0.5901\n",
            "Epoch 54/150\n",
            "2963/2963 [==============================] - 1s 179us/step - loss: 0.8129 - acc: 0.6200 - val_loss: 0.8881 - val_acc: 0.5935\n",
            "Epoch 55/150\n",
            "2963/2963 [==============================] - 1s 181us/step - loss: 0.8128 - acc: 0.6193 - val_loss: 0.8893 - val_acc: 0.5949\n",
            "Epoch 56/150\n",
            "2963/2963 [==============================] - 1s 174us/step - loss: 0.8118 - acc: 0.6220 - val_loss: 0.8914 - val_acc: 0.5895\n",
            "Epoch 57/150\n",
            "2963/2963 [==============================] - 1s 175us/step - loss: 0.8114 - acc: 0.6196 - val_loss: 0.8894 - val_acc: 0.5996\n",
            "Epoch 58/150\n",
            "2963/2963 [==============================] - 1s 171us/step - loss: 0.8109 - acc: 0.6183 - val_loss: 0.8889 - val_acc: 0.6016\n",
            "Epoch 59/150\n",
            "2963/2963 [==============================] - 1s 184us/step - loss: 0.8105 - acc: 0.6244 - val_loss: 0.8887 - val_acc: 0.5942\n",
            "Epoch 60/150\n",
            "2963/2963 [==============================] - 0s 166us/step - loss: 0.8095 - acc: 0.6227 - val_loss: 0.8944 - val_acc: 0.5982\n",
            "Epoch 61/150\n",
            "2963/2963 [==============================] - 1s 174us/step - loss: 0.8109 - acc: 0.6237 - val_loss: 0.8939 - val_acc: 0.5962\n",
            "Epoch 62/150\n",
            "2963/2963 [==============================] - 1s 170us/step - loss: 0.8082 - acc: 0.6234 - val_loss: 0.8884 - val_acc: 0.6016\n",
            "Epoch 63/150\n",
            "2963/2963 [==============================] - 1s 176us/step - loss: 0.8093 - acc: 0.6213 - val_loss: 0.8915 - val_acc: 0.5908\n",
            "Epoch 64/150\n",
            "2963/2963 [==============================] - 1s 171us/step - loss: 0.8091 - acc: 0.6210 - val_loss: 0.8892 - val_acc: 0.5962\n",
            "Epoch 65/150\n",
            "2963/2963 [==============================] - 1s 176us/step - loss: 0.8081 - acc: 0.6264 - val_loss: 0.8901 - val_acc: 0.6009\n",
            "Epoch 66/150\n",
            "2963/2963 [==============================] - 1s 177us/step - loss: 0.8081 - acc: 0.6223 - val_loss: 0.8897 - val_acc: 0.6023\n",
            "Epoch 67/150\n",
            "2963/2963 [==============================] - 1s 172us/step - loss: 0.8071 - acc: 0.6240 - val_loss: 0.8884 - val_acc: 0.5982\n",
            "Epoch 68/150\n",
            "2963/2963 [==============================] - 1s 173us/step - loss: 0.8065 - acc: 0.6277 - val_loss: 0.8890 - val_acc: 0.6036\n",
            "Epoch 69/150\n",
            "2963/2963 [==============================] - 1s 180us/step - loss: 0.8069 - acc: 0.6261 - val_loss: 0.8925 - val_acc: 0.6003\n",
            "Epoch 70/150\n",
            "2963/2963 [==============================] - 1s 173us/step - loss: 0.8070 - acc: 0.6298 - val_loss: 0.8909 - val_acc: 0.6003\n",
            "Epoch 71/150\n",
            "2963/2963 [==============================] - 1s 181us/step - loss: 0.8053 - acc: 0.6271 - val_loss: 0.8930 - val_acc: 0.5935\n",
            "Epoch 72/150\n",
            "2963/2963 [==============================] - 1s 184us/step - loss: 0.8055 - acc: 0.6274 - val_loss: 0.8893 - val_acc: 0.5982\n",
            "Epoch 73/150\n",
            "2963/2963 [==============================] - 1s 180us/step - loss: 0.8054 - acc: 0.6244 - val_loss: 0.8914 - val_acc: 0.5922\n",
            "Epoch 74/150\n",
            "2963/2963 [==============================] - 1s 176us/step - loss: 0.8040 - acc: 0.6291 - val_loss: 0.8946 - val_acc: 0.5928\n",
            "Epoch 75/150\n",
            "2963/2963 [==============================] - 1s 172us/step - loss: 0.8047 - acc: 0.6210 - val_loss: 0.8925 - val_acc: 0.5955\n",
            "Epoch 76/150\n",
            "2963/2963 [==============================] - 1s 173us/step - loss: 0.8042 - acc: 0.6244 - val_loss: 0.8889 - val_acc: 0.5996\n",
            "Epoch 77/150\n",
            "2963/2963 [==============================] - 1s 177us/step - loss: 0.8046 - acc: 0.6261 - val_loss: 0.8928 - val_acc: 0.5928\n",
            "Epoch 78/150\n",
            "2963/2963 [==============================] - 1s 174us/step - loss: 0.8040 - acc: 0.6230 - val_loss: 0.8933 - val_acc: 0.5969\n",
            "Epoch 79/150\n",
            "2963/2963 [==============================] - 1s 181us/step - loss: 0.8029 - acc: 0.6288 - val_loss: 0.8931 - val_acc: 0.5935\n",
            "Epoch 80/150\n",
            "2963/2963 [==============================] - 1s 186us/step - loss: 0.8038 - acc: 0.6301 - val_loss: 0.8945 - val_acc: 0.5976\n",
            "Epoch 81/150\n",
            "2963/2963 [==============================] - 1s 201us/step - loss: 0.8032 - acc: 0.6301 - val_loss: 0.8958 - val_acc: 0.5928\n",
            "Epoch 82/150\n",
            "2963/2963 [==============================] - 1s 184us/step - loss: 0.8023 - acc: 0.6274 - val_loss: 0.8954 - val_acc: 0.5969\n",
            "Epoch 83/150\n",
            "2963/2963 [==============================] - 1s 177us/step - loss: 0.8036 - acc: 0.6277 - val_loss: 0.8912 - val_acc: 0.5996\n",
            "Epoch 84/150\n",
            "2963/2963 [==============================] - 1s 175us/step - loss: 0.8012 - acc: 0.6281 - val_loss: 0.8941 - val_acc: 0.5996\n",
            "Epoch 85/150\n",
            "2963/2963 [==============================] - 1s 175us/step - loss: 0.8021 - acc: 0.6257 - val_loss: 0.8933 - val_acc: 0.5908\n",
            "Epoch 86/150\n",
            "2963/2963 [==============================] - 1s 180us/step - loss: 0.8004 - acc: 0.6328 - val_loss: 0.8932 - val_acc: 0.5969\n",
            "Epoch 87/150\n",
            "2963/2963 [==============================] - 1s 186us/step - loss: 0.8013 - acc: 0.6277 - val_loss: 0.8949 - val_acc: 0.5976\n",
            "Epoch 88/150\n",
            "2963/2963 [==============================] - 1s 179us/step - loss: 0.8000 - acc: 0.6254 - val_loss: 0.8957 - val_acc: 0.5908\n",
            "Epoch 89/150\n",
            "2963/2963 [==============================] - 1s 183us/step - loss: 0.8019 - acc: 0.6274 - val_loss: 0.8963 - val_acc: 0.5942\n",
            "Epoch 90/150\n",
            "2963/2963 [==============================] - 1s 201us/step - loss: 0.8016 - acc: 0.6261 - val_loss: 0.8952 - val_acc: 0.5922\n",
            "Epoch 91/150\n",
            "2963/2963 [==============================] - 1s 195us/step - loss: 0.8003 - acc: 0.6274 - val_loss: 0.8934 - val_acc: 0.5942\n",
            "Epoch 92/150\n",
            "2963/2963 [==============================] - 1s 191us/step - loss: 0.7992 - acc: 0.6298 - val_loss: 0.8940 - val_acc: 0.5915\n",
            "Epoch 93/150\n",
            "2963/2963 [==============================] - 1s 193us/step - loss: 0.8012 - acc: 0.6250 - val_loss: 0.8942 - val_acc: 0.5915\n",
            "Epoch 94/150\n",
            "2963/2963 [==============================] - 1s 191us/step - loss: 0.7994 - acc: 0.6254 - val_loss: 0.9030 - val_acc: 0.5928\n",
            "Epoch 95/150\n",
            "2963/2963 [==============================] - 1s 201us/step - loss: 0.7997 - acc: 0.6261 - val_loss: 0.8958 - val_acc: 0.5928\n",
            "Epoch 96/150\n",
            "2963/2963 [==============================] - 1s 189us/step - loss: 0.7978 - acc: 0.6331 - val_loss: 0.8986 - val_acc: 0.5955\n",
            "Epoch 97/150\n",
            "2963/2963 [==============================] - 1s 203us/step - loss: 0.7986 - acc: 0.6315 - val_loss: 0.8971 - val_acc: 0.5915\n",
            "Epoch 98/150\n",
            "2963/2963 [==============================] - 1s 189us/step - loss: 0.7983 - acc: 0.6271 - val_loss: 0.8973 - val_acc: 0.5962\n",
            "Epoch 99/150\n",
            "2963/2963 [==============================] - 1s 171us/step - loss: 0.7991 - acc: 0.6244 - val_loss: 0.8945 - val_acc: 0.5955\n",
            "Epoch 100/150\n",
            "2963/2963 [==============================] - 1s 192us/step - loss: 0.7986 - acc: 0.6291 - val_loss: 0.8957 - val_acc: 0.5922\n",
            "Epoch 101/150\n",
            "2963/2963 [==============================] - 1s 192us/step - loss: 0.7980 - acc: 0.6325 - val_loss: 0.8969 - val_acc: 0.6003\n",
            "Epoch 102/150\n",
            "2963/2963 [==============================] - 1s 200us/step - loss: 0.7974 - acc: 0.6281 - val_loss: 0.8951 - val_acc: 0.5976\n",
            "Epoch 103/150\n",
            "2963/2963 [==============================] - 1s 194us/step - loss: 0.7979 - acc: 0.6264 - val_loss: 0.8960 - val_acc: 0.5969\n",
            "Epoch 104/150\n",
            "2963/2963 [==============================] - 1s 195us/step - loss: 0.7986 - acc: 0.6284 - val_loss: 0.8967 - val_acc: 0.5928\n",
            "Epoch 105/150\n",
            "2963/2963 [==============================] - 1s 185us/step - loss: 0.7996 - acc: 0.6267 - val_loss: 0.8957 - val_acc: 0.5908\n",
            "Epoch 106/150\n",
            "2963/2963 [==============================] - 1s 173us/step - loss: 0.7969 - acc: 0.6311 - val_loss: 0.8956 - val_acc: 0.5982\n",
            "Epoch 107/150\n",
            "2963/2963 [==============================] - 1s 178us/step - loss: 0.7977 - acc: 0.6281 - val_loss: 0.9012 - val_acc: 0.5814\n",
            "Epoch 108/150\n",
            "2963/2963 [==============================] - 1s 177us/step - loss: 0.7964 - acc: 0.6277 - val_loss: 0.8983 - val_acc: 0.5908\n",
            "Epoch 109/150\n",
            "2963/2963 [==============================] - 1s 180us/step - loss: 0.7965 - acc: 0.6271 - val_loss: 0.8984 - val_acc: 0.5901\n",
            "Epoch 110/150\n",
            "2963/2963 [==============================] - 1s 169us/step - loss: 0.7972 - acc: 0.6325 - val_loss: 0.9010 - val_acc: 0.5955\n",
            "Epoch 111/150\n",
            "2963/2963 [==============================] - 1s 182us/step - loss: 0.7972 - acc: 0.6274 - val_loss: 0.8989 - val_acc: 0.5942\n",
            "Epoch 112/150\n",
            "2963/2963 [==============================] - 0s 164us/step - loss: 0.7963 - acc: 0.6318 - val_loss: 0.9006 - val_acc: 0.5969\n",
            "Epoch 113/150\n",
            "2963/2963 [==============================] - 1s 173us/step - loss: 0.7976 - acc: 0.6301 - val_loss: 0.8994 - val_acc: 0.5935\n",
            "Epoch 114/150\n",
            "2963/2963 [==============================] - 0s 167us/step - loss: 0.7965 - acc: 0.6308 - val_loss: 0.9025 - val_acc: 0.5834\n",
            "Epoch 115/150\n",
            "2963/2963 [==============================] - 1s 174us/step - loss: 0.7956 - acc: 0.6315 - val_loss: 0.8969 - val_acc: 0.5955\n",
            "Epoch 116/150\n",
            "2963/2963 [==============================] - 1s 169us/step - loss: 0.7961 - acc: 0.6294 - val_loss: 0.9003 - val_acc: 0.5962\n",
            "Epoch 117/150\n",
            "2963/2963 [==============================] - 1s 177us/step - loss: 0.7960 - acc: 0.6257 - val_loss: 0.8998 - val_acc: 0.5854\n",
            "Epoch 118/150\n",
            "2963/2963 [==============================] - 1s 174us/step - loss: 0.7963 - acc: 0.6291 - val_loss: 0.9013 - val_acc: 0.5976\n",
            "Epoch 119/150\n",
            "2963/2963 [==============================] - 1s 187us/step - loss: 0.7958 - acc: 0.6321 - val_loss: 0.9057 - val_acc: 0.5969\n",
            "Epoch 120/150\n",
            "2963/2963 [==============================] - 1s 181us/step - loss: 0.7954 - acc: 0.6284 - val_loss: 0.8992 - val_acc: 0.5982\n",
            "Epoch 121/150\n",
            "2963/2963 [==============================] - 1s 182us/step - loss: 0.7947 - acc: 0.6304 - val_loss: 0.8994 - val_acc: 0.5962\n",
            "Epoch 122/150\n",
            "2963/2963 [==============================] - 1s 177us/step - loss: 0.7932 - acc: 0.6318 - val_loss: 0.8979 - val_acc: 0.5928\n",
            "Epoch 123/150\n",
            "2963/2963 [==============================] - 1s 181us/step - loss: 0.7959 - acc: 0.6277 - val_loss: 0.9042 - val_acc: 0.5955\n",
            "Epoch 124/150\n",
            "2963/2963 [==============================] - 1s 173us/step - loss: 0.7946 - acc: 0.6298 - val_loss: 0.9022 - val_acc: 0.5989\n",
            "Epoch 125/150\n",
            "2963/2963 [==============================] - 1s 178us/step - loss: 0.7946 - acc: 0.6271 - val_loss: 0.8992 - val_acc: 0.5928\n",
            "Epoch 126/150\n",
            "2963/2963 [==============================] - 1s 174us/step - loss: 0.7948 - acc: 0.6308 - val_loss: 0.9011 - val_acc: 0.5969\n",
            "Epoch 127/150\n",
            "2963/2963 [==============================] - 1s 176us/step - loss: 0.7938 - acc: 0.6315 - val_loss: 0.9039 - val_acc: 0.5922\n",
            "Epoch 128/150\n",
            "2963/2963 [==============================] - 1s 183us/step - loss: 0.7946 - acc: 0.6335 - val_loss: 0.9023 - val_acc: 0.5834\n",
            "Epoch 129/150\n",
            "2963/2963 [==============================] - 1s 176us/step - loss: 0.7950 - acc: 0.6277 - val_loss: 0.9026 - val_acc: 0.5949\n",
            "Epoch 130/150\n",
            "2963/2963 [==============================] - 1s 180us/step - loss: 0.7940 - acc: 0.6281 - val_loss: 0.9036 - val_acc: 0.5901\n",
            "Epoch 131/150\n",
            "2963/2963 [==============================] - 1s 191us/step - loss: 0.7928 - acc: 0.6318 - val_loss: 0.9005 - val_acc: 0.5962\n",
            "Epoch 132/150\n",
            "2963/2963 [==============================] - 1s 182us/step - loss: 0.7932 - acc: 0.6291 - val_loss: 0.9032 - val_acc: 0.5969\n",
            "Epoch 133/150\n",
            "2963/2963 [==============================] - 1s 170us/step - loss: 0.7935 - acc: 0.6318 - val_loss: 0.9050 - val_acc: 0.5928\n",
            "Epoch 134/150\n",
            "2963/2963 [==============================] - 1s 183us/step - loss: 0.7931 - acc: 0.6382 - val_loss: 0.8989 - val_acc: 0.5982\n",
            "Epoch 135/150\n",
            "2963/2963 [==============================] - 1s 182us/step - loss: 0.7934 - acc: 0.6281 - val_loss: 0.9033 - val_acc: 0.6030\n",
            "Epoch 136/150\n",
            "2963/2963 [==============================] - 1s 171us/step - loss: 0.7921 - acc: 0.6358 - val_loss: 0.9018 - val_acc: 0.5928\n",
            "Epoch 137/150\n",
            "2963/2963 [==============================] - 1s 184us/step - loss: 0.7917 - acc: 0.6304 - val_loss: 0.9081 - val_acc: 0.5827\n",
            "Epoch 138/150\n",
            "2963/2963 [==============================] - 1s 177us/step - loss: 0.7920 - acc: 0.6331 - val_loss: 0.9053 - val_acc: 0.5820\n",
            "Epoch 139/150\n",
            "2963/2963 [==============================] - 1s 174us/step - loss: 0.7918 - acc: 0.6365 - val_loss: 0.8999 - val_acc: 0.5949\n",
            "Epoch 140/150\n",
            "2963/2963 [==============================] - 1s 175us/step - loss: 0.7910 - acc: 0.6335 - val_loss: 0.9009 - val_acc: 0.5881\n",
            "Epoch 141/150\n",
            "2963/2963 [==============================] - 1s 185us/step - loss: 0.7920 - acc: 0.6315 - val_loss: 0.9010 - val_acc: 0.5976\n",
            "Epoch 142/150\n",
            "2963/2963 [==============================] - 1s 181us/step - loss: 0.7922 - acc: 0.6328 - val_loss: 0.9020 - val_acc: 0.5922\n",
            "Epoch 143/150\n",
            "2963/2963 [==============================] - 1s 170us/step - loss: 0.7912 - acc: 0.6298 - val_loss: 0.9033 - val_acc: 0.5895\n",
            "Epoch 144/150\n",
            "2963/2963 [==============================] - 1s 177us/step - loss: 0.7906 - acc: 0.6352 - val_loss: 0.9072 - val_acc: 0.5868\n",
            "Epoch 145/150\n",
            "2963/2963 [==============================] - 1s 178us/step - loss: 0.7907 - acc: 0.6345 - val_loss: 0.9034 - val_acc: 0.5942\n",
            "Epoch 146/150\n",
            "2963/2963 [==============================] - 1s 169us/step - loss: 0.7896 - acc: 0.6335 - val_loss: 0.9020 - val_acc: 0.5915\n",
            "Epoch 147/150\n",
            "2963/2963 [==============================] - 1s 192us/step - loss: 0.7890 - acc: 0.6348 - val_loss: 0.9073 - val_acc: 0.5847\n",
            "Epoch 148/150\n",
            "2963/2963 [==============================] - 0s 167us/step - loss: 0.7914 - acc: 0.6315 - val_loss: 0.9012 - val_acc: 0.5969\n",
            "Epoch 149/150\n",
            "2963/2963 [==============================] - 1s 178us/step - loss: 0.7894 - acc: 0.6311 - val_loss: 0.9004 - val_acc: 0.5935\n",
            "Epoch 150/150\n",
            "2963/2963 [==============================] - 1s 173us/step - loss: 0.7907 - acc: 0.6379 - val_loss: 0.9029 - val_acc: 0.5989\n",
            "2963/2963 [==============================] - 0s 27us/step\n",
            "['loss', 'acc']\n",
            "[0.7822065145994335, 0.6368545392579096]\n",
            "Trainning set Accuracy:  63.68545392579096 %\n"
          ],
          "name": "stdout"
        }
      ]
    },
    {
      "cell_type": "markdown",
      "metadata": {
        "id": "tzbVdWfs8lVl",
        "colab_type": "text"
      },
      "source": [
        "# Plot the learning curve"
      ]
    },
    {
      "cell_type": "code",
      "metadata": {
        "id": "-PBwpKlg-YVq",
        "colab_type": "code",
        "outputId": "0fbb2545-d052-448d-8447-26c66f5c10f3",
        "colab": {
          "base_uri": "https://localhost:8080/",
          "height": 980
        }
      },
      "source": [
        "plt.figure(figsize=(8,8))\n",
        "plt.plot(history.history['acc'])\n",
        "plt.plot(history.history['val_acc'])\n",
        "plt.ylabel('accuracy')\n",
        "plt.xlabel('epoch')\n",
        "plt.legend(['train', 'validation'], loc='upper right')\n",
        "plt.show()\n",
        "\n",
        "plt.figure(figsize=(8,8))\n",
        "plt.plot(history.history['loss'])\n",
        "plt.plot(history.history['val_loss'])\n",
        "plt.ylabel('loss')\n",
        "plt.xlabel('epoch')\n",
        "plt.legend(['train', 'validation'], loc='upper right')\n",
        "plt.show()"
      ],
      "execution_count": 0,
      "outputs": [
        {
          "output_type": "display_data",
          "data": {
            "image/png": "[encoded data removed]",
            "text/plain": [
              "<Figure size 576x576 with 1 Axes>"
            ]
          },
          "metadata": {
            "tags": []
          }
        },
        {
          "output_type": "display_data",
          "data": {
            "image/png": "[encoded data removed]",
            "text/plain": [
              "<Figure size 576x576 with 1 Axes>"
            ]
          },
          "metadata": {
            "tags": []
          }
        }
      ]
    },
    {
      "cell_type": "markdown",
      "metadata": {
        "id": "AVXaLOlO8QN5",
        "colab_type": "text"
      },
      "source": [
        "# Evaluate model on Validation set"
      ]
    },
    {
      "cell_type": "code",
      "metadata": {
        "id": "T_tE4A5VZ5Bo",
        "colab_type": "code",
        "outputId": "0a1e5537-9b8e-400a-881c-56fcc3e00200",
        "colab": {
          "base_uri": "https://localhost:8080/",
          "height": 153
        }
      },
      "source": [
        "# print(xValidation[0:5])\n",
        "# print(YVal[0:10])\n",
        "\n",
        "scoresVal = myModal.evaluate(xValidation, YVal)\n",
        "\n",
        "print(myModal.metrics_names)\n",
        "print(scoresVal, \"\\n\")\n",
        "print(\"Validation set Accuracy: \", (scoresVal[1] * 100.0) , \"%\")\n",
        "\n",
        "prediction = myModal.predict(xValidation)\n",
        "\n",
        "# accuracy = accuracy_score(YVal, prediction.round())\n",
        "precision = precision_score(YVal, prediction.round(), average='micro')\n",
        "recall = recall_score(YVal, prediction.round(), average='micro')\n",
        "f1score = f1_score(YVal, prediction.round(), average='micro')\n",
        "\n",
        "print(\"Precision: \", (precision * 100.0))\n",
        "print(\"Recall: \", (recall * 100.0))\n",
        "print(\"F1-score: \", (f1score))"
      ],
      "execution_count": 0,
      "outputs": [
        {
          "output_type": "stream",
          "text": [
            "1481/1481 [==============================] - 0s 25us/step\n",
            "['loss', 'acc']\n",
            "[0.9149009710546283, 0.559081701593251] \n",
            "\n",
            "Validation set Accuracy:  55.908170159325095 %\n",
            "Precision:  63.977485928705434\n",
            "Recall:  46.04996623902768\n",
            "F1-score:  0.5355319984295248\n"
          ],
          "name": "stdout"
        }
      ]
    },
    {
      "cell_type": "markdown",
      "metadata": {
        "id": "WmLVMCuZ8VWR",
        "colab_type": "text"
      },
      "source": [
        "# Evaluate Model on Training set"
      ]
    },
    {
      "cell_type": "code",
      "metadata": {
        "id": "2llIi9gGtAtk",
        "colab_type": "code",
        "outputId": "bc07c937-6bf6-45ca-9294-91ecf5ace9d0",
        "colab": {
          "base_uri": "https://localhost:8080/",
          "height": 153
        }
      },
      "source": [
        "scoresValTest = myModal.evaluate(xTest, YTest)\n",
        "print(myModal.metrics_names)\n",
        "print(scoresValTest, \"\\n\")\n",
        "print(\"Testset Accuracy: \", (scoresValTest[1] * 100.0) , \"%\")\n",
        "\n",
        "\n",
        "testPrediction = myModal.predict(xTest)\n",
        "precision = precision_score(YTest, testPrediction.round(), average='micro')\n",
        "recall = recall_score(YTest, testPrediction.round(), average='micro')\n",
        "f1score = f1_score(YTest, testPrediction.round(), average='micro')\n",
        "\n",
        "print(\"Precision: \", (precision * 100.0))\n",
        "print(\"Recall: \", (recall * 100.0))\n",
        "print(\"F1-score: \", (f1score))"
      ],
      "execution_count": 0,
      "outputs": [
        {
          "output_type": "stream",
          "text": [
            "494/494 [==============================] - 0s 45us/step\n",
            "['loss', 'acc']\n",
            "[0.8579355941610298, 0.6153846155052726] \n",
            "\n",
            "Testset Accuracy:  61.53846155052726 %\n",
            "Precision:  69.2722371967655\n",
            "Recall:  52.0242914979757\n",
            "F1-score:  0.5942196531791907\n"
          ],
          "name": "stdout"
        }
      ]
    },
    {
      "cell_type": "markdown",
      "metadata": {
        "id": "h8ruZVg68Ej3",
        "colab_type": "text"
      },
      "source": [
        "# Custom Prediction Function"
      ]
    },
    {
      "cell_type": "code",
      "metadata": {
        "id": "JZxcgioOzuP5",
        "colab_type": "code",
        "colab": {}
      },
      "source": [
        "# print(myModal.summary())\n",
        "# input1 = xTrain.iloc[ : 1]\n",
        "\n",
        "layerLen = len(myModal.layers)\n",
        "w = []\n",
        "for i in range(0, layerLen):\n",
        "  t = myModal.layers[i].get_weights()\n",
        "  w.append(t)\n",
        "\n",
        "def sigmoid(X):\n",
        "  return 1/(1+np.exp(-X))\n",
        "\n",
        "def relu(X):\n",
        "  return np.maximum(0,X)\n",
        "\n",
        "def tanh(X):\n",
        "  return np.tanh(X)\n",
        "\n",
        "def softmax(X):\n",
        "  expo = np.exp(X)\n",
        "  expo_sum = np.sum(np.exp(X))\n",
        "  return expo/expo_sum\n",
        "\n",
        "def custom_predict(input, w):\n",
        "  layer1 = relu(np.dot(input, w[0][0]) + w[0][1])\n",
        "  layer2 = tanh(np.dot(layer1, w[1][0]) + w[1][1])\n",
        "  output = softmax(np.dot(layer2, w[2][0]) + w[2][1])\n",
        "  return output\n"
      ],
      "execution_count": 0,
      "outputs": []
    },
    {
      "cell_type": "markdown",
      "metadata": {
        "id": "9J6s3o9V8Izp",
        "colab_type": "text"
      },
      "source": [
        "# Testing and Comparing custom prediction function on validation set"
      ]
    },
    {
      "cell_type": "code",
      "metadata": {
        "id": "8Ghg_p4RysCs",
        "colab_type": "code",
        "outputId": "e65176d9-ff6f-48d0-c3b5-16ec96445484",
        "colab": {
          "base_uri": "https://localhost:8080/",
          "height": 357
        }
      },
      "source": [
        "#comparing first 10 prediction on validation set with keras vs custom function\n",
        "\n",
        "prediction = myModal.predict(xValidation)\n",
        "for i in range(1, 11):\n",
        "  inp = xValidation.iloc[i-1 : i]\n",
        "  predictVal = custom_predict(inp, w)\n",
        "  print(predictVal)\n",
        "  print(prediction[i-1 : i])\n"
      ],
      "execution_count": 0,
      "outputs": [
        {
          "output_type": "stream",
          "text": [
            "[[0.18804371 0.51262939 0.29932689]]\n",
            "[[0.18804371 0.51262945 0.29932687]]\n",
            "[[0.19537543 0.09730644 0.70731813]]\n",
            "[[0.1953754  0.09730637 0.7073182 ]]\n",
            "[[0.27160618 0.34590381 0.38249001]]\n",
            "[[0.27160612 0.34590378 0.38249007]]\n",
            "[[0.41672543 0.23063164 0.35264294]]\n",
            "[[0.41672534 0.23063174 0.3526429 ]]\n",
            "[[0.22545131 0.56193237 0.21261632]]\n",
            "[[0.22545126 0.5619324  0.21261634]]\n",
            "[[0.17113233 0.0809782  0.74788947]]\n",
            "[[0.1711323  0.08097817 0.7478895 ]]\n",
            "[[0.16502367 0.70633245 0.12864387]]\n",
            "[[0.16502368 0.70633245 0.12864392]]\n",
            "[[0.12983687 0.7606273  0.10953582]]\n",
            "[[0.1298369  0.76062715 0.1095359 ]]\n",
            "[[0.40009899 0.20856164 0.39133937]]\n",
            "[[0.40009886 0.20856155 0.39133957]]\n",
            "[[0.29987239 0.39021102 0.30991659]]\n",
            "[[0.2998724  0.39021105 0.3099166 ]]\n"
          ],
          "name": "stdout"
        }
      ]
    },
    {
      "cell_type": "markdown",
      "metadata": {
        "id": "n9ByMh6_YVHN",
        "colab_type": "text"
      },
      "source": [
        "# Testing and Comparing custom prediction function on Test set"
      ]
    },
    {
      "cell_type": "code",
      "metadata": {
        "id": "iiqRbpk0YcT6",
        "colab_type": "code",
        "outputId": "304e81ab-3a71-4734-b9c9-40b7ca50f159",
        "colab": {
          "base_uri": "https://localhost:8080/",
          "height": 357
        }
      },
      "source": [
        "#comparing first 10 prediction on test set with keras vs custom function\n",
        "\n",
        "testPrediction = myModal.predict(xTest)\n",
        "for i in range(1, 11):\n",
        "  inp = xTest.iloc[i-1 : i]\n",
        "  predictVal = custom_predict(inp, w)\n",
        "  print(predictVal)\n",
        "  print(testPrediction[i-1 : i])"
      ],
      "execution_count": 0,
      "outputs": [
        {
          "output_type": "stream",
          "text": [
            "[[0.18823387 0.18162216 0.63014397]]\n",
            "[[0.18823384 0.18162198 0.6301442 ]]\n",
            "[[0.27268936 0.08002955 0.64728109]]\n",
            "[[0.27268937 0.0800295  0.6472811 ]]\n",
            "[[0.21417978 0.66764913 0.11817109]]\n",
            "[[0.21417983 0.66764915 0.1181711 ]]\n",
            "[[0.31936328 0.49819646 0.18244026]]\n",
            "[[0.31936327 0.4981965  0.1824403 ]]\n",
            "[[0.21284562 0.6926777  0.09447668]]\n",
            "[[0.21284561 0.69267774 0.09447669]]\n",
            "[[0.26365524 0.52577899 0.21056577]]\n",
            "[[0.26365525 0.5257789  0.21056579]]\n",
            "[[0.14507838 0.08663671 0.76828491]]\n",
            "[[0.14507832 0.08663667 0.76828504]]\n",
            "[[0.18368569 0.62675496 0.18955935]]\n",
            "[[0.18368569 0.62675494 0.1895594 ]]\n",
            "[[0.4164846  0.34217412 0.24134128]]\n",
            "[[0.41648465 0.34217387 0.2413415 ]]\n",
            "[[0.23409463 0.15007597 0.61582941]]\n",
            "[[0.23409466 0.15007596 0.6158294 ]]\n"
          ],
          "name": "stdout"
        }
      ]
    }
  ]
}